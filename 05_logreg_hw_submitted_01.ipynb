{
 "cells": [
  {
   "cell_type": "markdown",
   "metadata": {},
   "source": [
    "# 05. Logistic regression\n",
    "\n",
    "#### 1. Download data from https://science.sciencemag.org/content/359/6378/926 (supplementary materials). If you do not succeed, you will find _aar3247_Cohen_SM_Tables-S1-S11.xlsx_ file in the homework's folder.\n",
    " - read the actract of the article to get familiar with data origin\n",
    " - open the data in excel and get familiar with its content\n",
    " - load the protein level data (you need to figure out which one is that) as a pandas dataframe\n",
    " - handle missing values and convert features to numeric values when it is needed\n",
    " - get rid of the unnecessary (which does not encode protein levels or the tumor type) columns and the CancerSEEK results\n",
    "\n",
    "#### 2. Predict if a sample is cancerous or not\n",
    " - your need to build a classifier that predicts the probability of a sample coming from a cancerous (tumor type is normal or not) person based on the measured protein levels\n",
    " - train a logistic regression (sklearn API) on every second sample (not first 50% of the data (!), use every second line)\n",
    " - generate prediction for the samples that were not used during the training\n",
    "\n",
    "#### 3. Comparision to CancerSEEK\n",
    " - plot the ROC curve and calculate the confusion matrix for the predictions\n",
    " - do the same for the CancerSEEK predictions\n",
    " - compare your model's performance to CancerSEEK performance\n",
    "\n",
    "#### 4. Hepatocellular carcinoma\n",
    " - fit a logistic regression (using statsmodels API this time) to predict if a sample has Hepatocellular carcinoma (liver cancer) or not. You need to keep only the liver and the normal samples for this exercise! For fitting use only the first 25 features and all the rows (which are liver or normal)\n",
    " - select the 5 best predictor based on P values.\n",
    " - Write down the most important features (based on P value) and compare them to the tumor markers that you find on wikipeida https://en.wikipedia.org/wiki/Hepatocellular_carcinoma or other sources!\n",
    "\n",
    "#### 5. Multiclass classification\n",
    " - Again, using every second datapoint train a logistic regression (sklearn API) to predict the tumor type. It is a multiclass classification problem.\n",
    " - Generate prediction for the rest of the dataset and show the confusion matrix for the predictions!\n",
    " - Plot the ROC curves for the different cancer types on the same plot! \n",
    " - Intepret your results. Which cancer type can be predicted the most reliably?\n",
    "\n",
    "\n",
    "### Hints:\n",
    " - On total you can get 10 points for fully completing all tasks.\n",
    " - Decorate your notebook with, questions, explanation etc, make it self contained and understandable!\n",
    " - Comments you code when necessary\n",
    " - Write functions for repetitive tasks!\n",
    " - Use the pandas package for data loading and handling\n",
    " - Use matplotlib and seaborn for plotting or bokeh and plotly for interactive investigation\n",
    " - Use the scikit learn package for almost everything\n",
    " - Use for loops only if it is really necessary!\n",
    " - Code sharing is not allowed between student! Sharing code will result in zero points.\n",
    " - If you use code found on web, it is OK, but, make its source clear! "
   ]
  },
  {
   "cell_type": "markdown",
   "metadata": {},
   "source": [
    "#### 1. Download data from https://science.sciencemag.org/content/359/6378/926 (supplementary materials). If you do not succeed, you will find _aar3247_Cohen_SM_Tables-S1-S11.xlsx_ file in the homework's folder.\n",
    " - read the actract of the article to get familiar with data origin\n",
    " - open the data in excel and get familiar with its content\n",
    " - load the protein level data (you need to figure out which one is that) as a pandas dataframe\n",
    " - handle missing values and convert features to numeric values when it is needed\n",
    " - get rid of the unnecessary (which does not encode protein levels or the tumor type) columns and the CancerSEEK results"
   ]
  },
  {
   "cell_type": "code",
   "execution_count": 1,
   "metadata": {},
   "outputs": [],
   "source": [
    "import pandas as pd\n",
    "import numpy as np\n",
    "import matplotlib.pyplot as plt\n",
    "\n",
    "import collections as col"
   ]
  },
  {
   "cell_type": "code",
   "execution_count": 2,
   "metadata": {},
   "outputs": [],
   "source": [
    "df_data = pd.read_excel('Data/aar3247_Cohen_SM_Tables-S1-S11.xlsx',sheet_name='Table S6',skiprows=2,skipfooter=4)\n",
    "\n",
    "df_data = df_data.astype('str')\n",
    "for c in list(df_data.columns):\n",
    "    df_data[c] = df_data[c].str.replace('*','')\n",
    "    \n",
    "df_data.pop('Patient ID #');\n",
    "df_data.pop('Sample ID #');\n",
    "df_data.pop('AJCC Stage');\n",
    "\n",
    "df_data['CancerSEEK Logistic Regression Score'] = df_data['CancerSEEK Logistic Regression Score'].astype('float')\n",
    "cancer_SEEK_prediction = pd.DataFrame({'y':list(df_data['CancerSEEK Logistic Regression Score'])})\n",
    "\n",
    "\n",
    "df_data['CancerSEEK Test Result'] = df_data['CancerSEEK Test Result'].str.replace('Positive','1')\n",
    "df_data['CancerSEEK Test Result'] = df_data['CancerSEEK Test Result'].str.replace('Negative','0')\n",
    "df_data['CancerSEEK Test Result'] = df_data['CancerSEEK Test Result'].astype(int)\n",
    "cancer_SEEK_prediction_val = pd.DataFrame({'y':list(df_data['CancerSEEK Test Result'])})\n",
    "\n",
    "\n",
    "y_true = []\n",
    "df_cancer_result = list(df_data['Tumor type'])\n",
    "for c in df_cancer_result:\n",
    "    if c =='Normal':\n",
    "        y_true.append(0) # 0 means not cancer\n",
    "    else:\n",
    "        y_true.append(1) # 1 means cancer\n",
    "y_true = pd.DataFrame({'y':y_true})\n",
    "\n",
    "\n",
    "df_data.pop('CancerSEEK Test Result');\n",
    "df_data.pop('CancerSEEK Logistic Regression Score');\n",
    "\n",
    "\n",
    "for c in list(df_data.columns):\n",
    "    if c != 'Tumor type':\n",
    "        df_data[c] = df_data[c].astype('float')\n",
    "\n",
    "\n",
    "df_data = df_data.dropna()#only a few nan values\n",
    "df_data = df_data.reset_index(drop=True)\n",
    "\n",
    "\n",
    "# y values: \n",
    "df_cancer_result = df_data['Tumor type'].copy()\n",
    "df_data.pop('Tumor type');"
   ]
  },
  {
   "cell_type": "code",
   "execution_count": 3,
   "metadata": {
    "scrolled": false
   },
   "outputs": [
    {
     "data": {
      "text/html": [
       "<div>\n",
       "<style scoped>\n",
       "    .dataframe tbody tr th:only-of-type {\n",
       "        vertical-align: middle;\n",
       "    }\n",
       "\n",
       "    .dataframe tbody tr th {\n",
       "        vertical-align: top;\n",
       "    }\n",
       "\n",
       "    .dataframe thead th {\n",
       "        text-align: right;\n",
       "    }\n",
       "</style>\n",
       "<table border=\"1\" class=\"dataframe\">\n",
       "  <thead>\n",
       "    <tr style=\"text-align: right;\">\n",
       "      <th></th>\n",
       "      <th>AFP (pg/ml)</th>\n",
       "      <th>Angiopoietin-2 (pg/ml)</th>\n",
       "      <th>AXL (pg/ml)</th>\n",
       "      <th>CA-125 (U/ml)</th>\n",
       "      <th>CA 15-3 (U/ml)</th>\n",
       "      <th>CA19-9 (U/ml)</th>\n",
       "      <th>CD44 (ng/ml)</th>\n",
       "      <th>CEA (pg/ml)</th>\n",
       "      <th>CYFRA 21-1 (pg/ml)</th>\n",
       "      <th>DKK1 (ng/ml)</th>\n",
       "      <th>...</th>\n",
       "      <th>Prolactin (pg/ml)</th>\n",
       "      <th>sEGFR (pg/ml)</th>\n",
       "      <th>sFas (pg/ml)</th>\n",
       "      <th>SHBG (nM)</th>\n",
       "      <th>sHER2/sEGFR2/sErbB2 (pg/ml)</th>\n",
       "      <th>sPECAM-1 (pg/ml)</th>\n",
       "      <th>TGFa (pg/ml)</th>\n",
       "      <th>Thrombospondin-2 (pg/ml)</th>\n",
       "      <th>TIMP-1 (pg/ml)</th>\n",
       "      <th>TIMP-2 (pg/ml)</th>\n",
       "    </tr>\n",
       "  </thead>\n",
       "  <tbody>\n",
       "    <tr>\n",
       "      <td>0</td>\n",
       "      <td>1583.450</td>\n",
       "      <td>5598.50</td>\n",
       "      <td>3621.04</td>\n",
       "      <td>5.090</td>\n",
       "      <td>19.08</td>\n",
       "      <td>16.452</td>\n",
       "      <td>9.81</td>\n",
       "      <td>540.07</td>\n",
       "      <td>1938.654</td>\n",
       "      <td>0.78</td>\n",
       "      <td>...</td>\n",
       "      <td>11606.60</td>\n",
       "      <td>3284.17</td>\n",
       "      <td>204.792</td>\n",
       "      <td>55.06</td>\n",
       "      <td>6832.07</td>\n",
       "      <td>9368.53</td>\n",
       "      <td>16.086</td>\n",
       "      <td>21863.74</td>\n",
       "      <td>56428.71</td>\n",
       "      <td>39498.82</td>\n",
       "    </tr>\n",
       "    <tr>\n",
       "      <td>1</td>\n",
       "      <td>715.308</td>\n",
       "      <td>20936.35</td>\n",
       "      <td>2772.96</td>\n",
       "      <td>7.270</td>\n",
       "      <td>10.04</td>\n",
       "      <td>40.910</td>\n",
       "      <td>27.57</td>\n",
       "      <td>5902.43</td>\n",
       "      <td>1938.654</td>\n",
       "      <td>0.77</td>\n",
       "      <td>...</td>\n",
       "      <td>14374.99</td>\n",
       "      <td>1911.81</td>\n",
       "      <td>204.792</td>\n",
       "      <td>72.92</td>\n",
       "      <td>5549.47</td>\n",
       "      <td>6224.55</td>\n",
       "      <td>16.086</td>\n",
       "      <td>29669.66</td>\n",
       "      <td>73940.49</td>\n",
       "      <td>41277.09</td>\n",
       "    </tr>\n",
       "    <tr>\n",
       "      <td>2</td>\n",
       "      <td>4365.530</td>\n",
       "      <td>2350.93</td>\n",
       "      <td>4120.77</td>\n",
       "      <td>4.854</td>\n",
       "      <td>16.96</td>\n",
       "      <td>16.452</td>\n",
       "      <td>14.59</td>\n",
       "      <td>973.75</td>\n",
       "      <td>1976.940</td>\n",
       "      <td>0.90</td>\n",
       "      <td>...</td>\n",
       "      <td>38375.00</td>\n",
       "      <td>1743.94</td>\n",
       "      <td>204.792</td>\n",
       "      <td>173.78</td>\n",
       "      <td>3698.16</td>\n",
       "      <td>4046.48</td>\n",
       "      <td>179.030</td>\n",
       "      <td>6020.47</td>\n",
       "      <td>22797.28</td>\n",
       "      <td>28440.60</td>\n",
       "    </tr>\n",
       "    <tr>\n",
       "      <td>3</td>\n",
       "      <td>715.308</td>\n",
       "      <td>1604.34</td>\n",
       "      <td>2029.96</td>\n",
       "      <td>5.390</td>\n",
       "      <td>8.31</td>\n",
       "      <td>16.452</td>\n",
       "      <td>7.78</td>\n",
       "      <td>2027.53</td>\n",
       "      <td>1938.654</td>\n",
       "      <td>0.64</td>\n",
       "      <td>...</td>\n",
       "      <td>12072.51</td>\n",
       "      <td>1059.24</td>\n",
       "      <td>204.792</td>\n",
       "      <td>29.47</td>\n",
       "      <td>5856.00</td>\n",
       "      <td>6121.93</td>\n",
       "      <td>16.086</td>\n",
       "      <td>4331.02</td>\n",
       "      <td>20441.19</td>\n",
       "      <td>25896.73</td>\n",
       "    </tr>\n",
       "    <tr>\n",
       "      <td>4</td>\n",
       "      <td>801.300</td>\n",
       "      <td>2087.57</td>\n",
       "      <td>2069.17</td>\n",
       "      <td>4.854</td>\n",
       "      <td>11.73</td>\n",
       "      <td>16.452</td>\n",
       "      <td>12.21</td>\n",
       "      <td>614.49</td>\n",
       "      <td>1938.654</td>\n",
       "      <td>0.78</td>\n",
       "      <td>...</td>\n",
       "      <td>23718.17</td>\n",
       "      <td>1736.92</td>\n",
       "      <td>204.792</td>\n",
       "      <td>78.07</td>\n",
       "      <td>5447.93</td>\n",
       "      <td>6982.32</td>\n",
       "      <td>16.086</td>\n",
       "      <td>2311.91</td>\n",
       "      <td>56288.51</td>\n",
       "      <td>49425.20</td>\n",
       "    </tr>\n",
       "  </tbody>\n",
       "</table>\n",
       "<p>5 rows × 39 columns</p>\n",
       "</div>"
      ],
      "text/plain": [
       "   AFP (pg/ml)  Angiopoietin-2 (pg/ml)  AXL (pg/ml)  CA-125 (U/ml)  \\\n",
       "0     1583.450                 5598.50      3621.04          5.090   \n",
       "1      715.308                20936.35      2772.96          7.270   \n",
       "2     4365.530                 2350.93      4120.77          4.854   \n",
       "3      715.308                 1604.34      2029.96          5.390   \n",
       "4      801.300                 2087.57      2069.17          4.854   \n",
       "\n",
       "   CA 15-3 (U/ml)  CA19-9 (U/ml)  CD44 (ng/ml)  CEA (pg/ml)  \\\n",
       "0           19.08         16.452          9.81       540.07   \n",
       "1           10.04         40.910         27.57      5902.43   \n",
       "2           16.96         16.452         14.59       973.75   \n",
       "3            8.31         16.452          7.78      2027.53   \n",
       "4           11.73         16.452         12.21       614.49   \n",
       "\n",
       "   CYFRA 21-1 (pg/ml)  DKK1 (ng/ml)  ...  Prolactin (pg/ml)  sEGFR (pg/ml)  \\\n",
       "0            1938.654          0.78  ...           11606.60        3284.17   \n",
       "1            1938.654          0.77  ...           14374.99        1911.81   \n",
       "2            1976.940          0.90  ...           38375.00        1743.94   \n",
       "3            1938.654          0.64  ...           12072.51        1059.24   \n",
       "4            1938.654          0.78  ...           23718.17        1736.92   \n",
       "\n",
       "   sFas (pg/ml)  SHBG (nM)  sHER2/sEGFR2/sErbB2 (pg/ml)  sPECAM-1 (pg/ml)  \\\n",
       "0       204.792      55.06                      6832.07           9368.53   \n",
       "1       204.792      72.92                      5549.47           6224.55   \n",
       "2       204.792     173.78                      3698.16           4046.48   \n",
       "3       204.792      29.47                      5856.00           6121.93   \n",
       "4       204.792      78.07                      5447.93           6982.32   \n",
       "\n",
       "   TGFa (pg/ml)  Thrombospondin-2 (pg/ml)  TIMP-1 (pg/ml)  TIMP-2 (pg/ml)  \n",
       "0        16.086                  21863.74        56428.71        39498.82  \n",
       "1        16.086                  29669.66        73940.49        41277.09  \n",
       "2       179.030                   6020.47        22797.28        28440.60  \n",
       "3        16.086                   4331.02        20441.19        25896.73  \n",
       "4        16.086                   2311.91        56288.51        49425.20  \n",
       "\n",
       "[5 rows x 39 columns]"
      ]
     },
     "execution_count": 3,
     "metadata": {},
     "output_type": "execute_result"
    }
   ],
   "source": [
    "df_data.head()"
   ]
  },
  {
   "cell_type": "code",
   "execution_count": 4,
   "metadata": {
    "scrolled": false
   },
   "outputs": [
    {
     "data": {
      "text/plain": [
       "Counter({'Colorectum': 388,\n",
       "         'Lung': 104,\n",
       "         'Breast': 208,\n",
       "         'Pancreas': 93,\n",
       "         'Ovary': 54,\n",
       "         'Esophagus': 45,\n",
       "         'Liver': 44,\n",
       "         'Stomach': 68,\n",
       "         'Normal': 799})"
      ]
     },
     "execution_count": 4,
     "metadata": {},
     "output_type": "execute_result"
    }
   ],
   "source": [
    "col.Counter(df_cancer_result)"
   ]
  },
  {
   "cell_type": "code",
   "execution_count": 5,
   "metadata": {
    "scrolled": false
   },
   "outputs": [
    {
     "data": {
      "text/plain": [
       "AFP (pg/ml)                    0\n",
       "Angiopoietin-2 (pg/ml)         0\n",
       "AXL (pg/ml)                    0\n",
       "CA-125 (U/ml)                  0\n",
       "CA 15-3 (U/ml)                 0\n",
       "CA19-9 (U/ml)                  0\n",
       "CD44 (ng/ml)                   0\n",
       "CEA (pg/ml)                    0\n",
       "CYFRA 21-1 (pg/ml)             0\n",
       "DKK1 (ng/ml)                   0\n",
       "Endoglin (pg/ml)               0\n",
       "FGF2 (pg/ml)                   0\n",
       "Follistatin (pg/ml)            0\n",
       "Galectin-3 (ng/ml)             0\n",
       "G-CSF (pg/ml)                  0\n",
       "GDF15 (ng/ml)                  0\n",
       "HE4 (pg/ml)                    0\n",
       "HGF (pg/ml)                    0\n",
       "IL-6 (pg/ml)                   0\n",
       "IL-8 (pg/ml)                   0\n",
       "Kallikrein-6 (pg/ml)           0\n",
       "Leptin (pg/ml)                 0\n",
       "Mesothelin (ng/ml)             0\n",
       "Midkine (pg/ml)                0\n",
       "Myeloperoxidase (ng/ml)        0\n",
       "NSE (ng/ml)                    0\n",
       "OPG (ng/ml)                    0\n",
       "OPN (pg/ml)                    0\n",
       "PAR (pg/ml)                    0\n",
       "Prolactin (pg/ml)              0\n",
       "sEGFR (pg/ml)                  0\n",
       "sFas (pg/ml)                   0\n",
       "SHBG (nM)                      0\n",
       "sHER2/sEGFR2/sErbB2 (pg/ml)    0\n",
       "sPECAM-1 (pg/ml)               0\n",
       "TGFa (pg/ml)                   0\n",
       "Thrombospondin-2 (pg/ml)       0\n",
       "TIMP-1 (pg/ml)                 0\n",
       "TIMP-2 (pg/ml)                 0\n",
       "dtype: int64"
      ]
     },
     "execution_count": 5,
     "metadata": {},
     "output_type": "execute_result"
    }
   ],
   "source": [
    "df_data.isna().sum()"
   ]
  },
  {
   "cell_type": "markdown",
   "metadata": {},
   "source": [
    "#### 2. Predict if a sample is cancerous or not\n",
    " - your need to build a classifier that predicts the probability of a sample coming from a cancerous (tumor type is normal or not) person based on the measured protein levels\n",
    " - train a logistic regression (sklearn API) on every second sample (not first 50% of the data (!), use every second line)\n",
    " - generate prediction for the samples that were not used during the training"
   ]
  },
  {
   "cell_type": "code",
   "execution_count": 6,
   "metadata": {},
   "outputs": [],
   "source": [
    "from sklearn.linear_model import LogisticRegression"
   ]
  },
  {
   "cell_type": "code",
   "execution_count": 7,
   "metadata": {},
   "outputs": [],
   "source": [
    "df_cancer_result_is_cancer = []\n",
    "for c in df_cancer_result:\n",
    "    if c =='Normal':\n",
    "        df_cancer_result_is_cancer.append(0) # 0 means not cancer\n",
    "    else:\n",
    "        df_cancer_result_is_cancer.append(1) # 1 means cancer\n",
    "df_cancer_result_is_cancer = pd.DataFrame({'y':df_cancer_result_is_cancer})"
   ]
  },
  {
   "cell_type": "code",
   "execution_count": 8,
   "metadata": {},
   "outputs": [
    {
     "data": {
      "text/plain": [
       "Counter({1: 1004, 0: 799})"
      ]
     },
     "execution_count": 8,
     "metadata": {},
     "output_type": "execute_result"
    }
   ],
   "source": [
    "col.Counter(df_cancer_result_is_cancer['y'])"
   ]
  },
  {
   "cell_type": "code",
   "execution_count": 9,
   "metadata": {},
   "outputs": [],
   "source": [
    "df_X_train = df_data.iloc[::2]\n",
    "df_cancer_result_is_cancer_train = df_cancer_result_is_cancer.iloc[::2]\n",
    "\n",
    "df_X_test = df_data.iloc[np.arange(1,len(df_data),2)]\n",
    "df_cancer_result_is_cancer_test = df_cancer_result_is_cancer.iloc[np.arange(1,len(df_cancer_result_is_cancer),2)]\n",
    "\n",
    "\n",
    "cancer_SEEK_prediction_test = cancer_SEEK_prediction.iloc[np.arange(1,len(cancer_SEEK_prediction),2)]\n",
    "cancer_SEEK_prediction_val_test = cancer_SEEK_prediction_val.iloc[np.arange(1,len(cancer_SEEK_prediction_val),2)]\n"
   ]
  },
  {
   "cell_type": "code",
   "execution_count": 10,
   "metadata": {},
   "outputs": [
    {
     "name": "stderr",
     "output_type": "stream",
     "text": [
      "/home/nemethg/Programs/Anaconda/lib/python3.7/site-packages/sklearn/linear_model/logistic.py:432: FutureWarning: Default solver will be changed to 'lbfgs' in 0.22. Specify a solver to silence this warning.\n",
      "  FutureWarning)\n",
      "/home/nemethg/Programs/Anaconda/lib/python3.7/site-packages/sklearn/svm/base.py:929: ConvergenceWarning: Liblinear failed to converge, increase the number of iterations.\n",
      "  \"the number of iterations.\", ConvergenceWarning)\n"
     ]
    }
   ],
   "source": [
    "logreg = LogisticRegression(random_state=0).fit(df_X_train, list(df_cancer_result_is_cancer_train['y']))\n",
    "pred_is_cancer = logreg.predict(df_X_test)\n",
    "pred_is_cancer_prob = logreg.predict_proba(df_X_test)"
   ]
  },
  {
   "cell_type": "markdown",
   "metadata": {},
   "source": [
    "#### 3. Comparision to CancerSEEK\n",
    " - plot the ROC curve and calculate the confusion matrix for the predictions\n",
    " - do the same for the CancerSEEK predictions\n",
    " - compare your model's performance to CancerSEEK performance\n"
   ]
  },
  {
   "cell_type": "code",
   "execution_count": 11,
   "metadata": {},
   "outputs": [],
   "source": [
    "from sklearn import metrics\n",
    "from sklearn.metrics import confusion_matrix\n",
    "import seaborn"
   ]
  },
  {
   "cell_type": "code",
   "execution_count": 12,
   "metadata": {},
   "outputs": [
    {
     "name": "stdout",
     "output_type": "stream",
     "text": [
      "[[344  55]\n",
      " [ 73 429]]\n"
     ]
    },
    {
     "data": {
      "text/plain": [
       "<matplotlib.axes._subplots.AxesSubplot at 0x7f73c4130ed0>"
      ]
     },
     "execution_count": 12,
     "metadata": {},
     "output_type": "execute_result"
    },
    {
     "data": {
      "image/png": "[encoded data removed]",
      "text/plain": [
       "<Figure size 576x288 with 3 Axes>"
      ]
     },
     "metadata": {
      "needs_background": "light"
     },
     "output_type": "display_data"
    }
   ],
   "source": [
    "pred_is_cancer_prob_c1 = pred_is_cancer_prob[:,1]\n",
    "fpr, tpr, threshold = metrics.roc_curve(df_cancer_result_is_cancer_test, pred_is_cancer_prob_c1)\n",
    "roc_auc = metrics.auc(fpr, tpr)\n",
    "\n",
    "plt.figure(figsize=(8,4))\n",
    "plt.subplot(1,2,1)\n",
    "plt.title('Roc curve, sklearn class.')\n",
    "plt.plot(fpr, tpr, 'b', label = 'AUC = %0.2f' % roc_auc)\n",
    "plt.plot([0,1],[0,1],'k--')\n",
    "plt.ylabel('Sensitivit')\n",
    "plt.xlabel('1 - Specificity')\n",
    "\n",
    "\n",
    "plt.subplot(1,2,2)\n",
    "\n",
    "c_matrix = confusion_matrix(df_cancer_result_is_cancer_test,pred_is_cancer)\n",
    "print(c_matrix)\n",
    "seaborn.heatmap(c_matrix,annot=True,fmt='d')#matplotlib version is broken, maybe you can't see the numbers in the cells.\n"
   ]
  },
  {
   "cell_type": "code",
   "execution_count": 13,
   "metadata": {},
   "outputs": [
    {
     "name": "stdout",
     "output_type": "stream",
     "text": [
      "[[805   7]\n",
      " [379 626]]\n"
     ]
    },
    {
     "data": {
      "text/plain": [
       "<matplotlib.axes._subplots.AxesSubplot at 0x7f73bdf46ed0>"
      ]
     },
     "execution_count": 13,
     "metadata": {},
     "output_type": "execute_result"
    },
    {
     "data": {
      "image/png": "[encoded data removed]",
      "text/plain": [
       "<Figure size 576x288 with 3 Axes>"
      ]
     },
     "metadata": {
      "needs_background": "light"
     },
     "output_type": "display_data"
    }
   ],
   "source": [
    "# cancer_SEEK_prediction_test_c1 = cancer_SEEK_prediction_test[:,1]\n",
    "fpr_SEEK, tpr_SEEK, threshold_SEEK = metrics.roc_curve(y_true,cancer_SEEK_prediction)\n",
    "roc_auc_SEEK = metrics.auc(fpr_SEEK, tpr_SEEK)\n",
    "\n",
    "plt.figure(figsize=(8,4))\n",
    "plt.subplot(1,2,1)\n",
    "plt.title('Roc curve, cancer SEEK')\n",
    "plt.plot(fpr_SEEK, tpr_SEEK, 'b', label = 'AUC = %0.2f' % roc_auc_SEEK)\n",
    "plt.plot([0,1],[0,1],'k--')\n",
    "plt.ylabel('Sensitivit')\n",
    "plt.xlabel('1 - Specificity')\n",
    "\n",
    "\n",
    "plt.subplot(1,2,2)\n",
    "\n",
    "c_matrix = confusion_matrix(y_true,cancer_SEEK_prediction_val)\n",
    "print(c_matrix)\n",
    "seaborn.heatmap(c_matrix,annot=True,fmt='d')#matplotlib version is broken, maybe you can't see the numbers in the cells.\n"
   ]
  },
  {
   "cell_type": "code",
   "execution_count": 14,
   "metadata": {},
   "outputs": [
    {
     "data": {
      "text/plain": [
       "<matplotlib.legend.Legend at 0x7f73bdf9b4d0>"
      ]
     },
     "execution_count": 14,
     "metadata": {},
     "output_type": "execute_result"
    },
    {
     "data": {
      "image/png": "[encoded data removed]",
      "text/plain": [
       "<Figure size 432x288 with 1 Axes>"
      ]
     },
     "metadata": {
      "needs_background": "light"
     },
     "output_type": "display_data"
    }
   ],
   "source": [
    "plt.title('Roc curve, sklearn class.')\n",
    "plt.plot(fpr, tpr, 'b', label = 'sklearn')\n",
    "plt.plot(fpr_SEEK, tpr_SEEK, 'r', label = 'SEEK')\n",
    "\n",
    "plt.plot([0,1],[0,1],'k--')\n",
    "plt.ylabel('Sensitivity')\n",
    "plt.xlabel('1 - Specificity')\n",
    "plt.legend()"
   ]
  },
  {
   "cell_type": "markdown",
   "metadata": {},
   "source": [
    "## Conclusion:\n",
    "* my model has similar predictions than the cancer SEEK"
   ]
  },
  {
   "cell_type": "markdown",
   "metadata": {},
   "source": [
    "#### 4. Hepatocellular carcinoma\n",
    " - fit a logistic regression (using statsmodels API this time) to predict if a sample has Hepatocellular carcinoma (liver cancer) or not. You need to keep only the liver and the normal samples for this exercise! For fitting use only the first 25 features and all the rows (which are liver or normal)\n",
    " - select the 5 best predictor based on P values.\n",
    " - Write down the most important features (based on P value) and compare them to the tumor markers that you find on wikipeida https://en.wikipedia.org/wiki/Hepatocellular_carcinoma or other sources!"
   ]
  },
  {
   "cell_type": "code",
   "execution_count": 15,
   "metadata": {},
   "outputs": [],
   "source": [
    "import statsmodels.api as sm"
   ]
  },
  {
   "cell_type": "code",
   "execution_count": 16,
   "metadata": {},
   "outputs": [],
   "source": [
    "df_data = pd.read_excel('Data/aar3247_Cohen_SM_Tables-S1-S11.xlsx',sheet_name='Table S6',skiprows=2,skipfooter=4)\n",
    "df_data = df_data[(df_data['Tumor type'] == 'Normal') | (df_data['Tumor type'] == 'Liver')]\n",
    "\n",
    "df_data = df_data.astype('str')\n",
    "for c in list(df_data.columns):\n",
    "    df_data[c] = df_data[c].str.replace('*','')\n",
    "\n",
    "df_data.pop('Patient ID #');\n",
    "df_data.pop('Sample ID #');\n",
    "df_data.pop('AJCC Stage');\n",
    "df_data.pop('CancerSEEK Test Result');\n",
    "df_data.pop('CancerSEEK Logistic Regression Score');\n",
    "\n",
    "for c in list(df_data.columns):\n",
    "    if c != 'Tumor type':\n",
    "        df_data[c] = df_data[c].astype('float')\n",
    "        \n",
    "\n",
    "df_data['Tumor type'] = df_data['Tumor type'].str.replace('Normal','0')\n",
    "df_data['Tumor type'] = df_data['Tumor type'].str.replace('Liver','1')\n",
    "\n",
    "df_data = df_data.dropna()\n",
    "\n",
    "df_data = df_data[df_data.columns[:26]]\n",
    "\n",
    "df_data = df_data.reset_index(drop = True)\n",
    "\n",
    "\n",
    "\n",
    "\n",
    "\n",
    "df_y = df_data['Tumor type'].copy()\n",
    "df_y = df_y.astype(int)\n",
    "df_X = df_data.copy()\n",
    "df_X.pop('Tumor type');\n",
    "\n",
    "\n",
    "df_y_test = list(df_y.iloc[::2])\n",
    "df_X_test = df_X.iloc[::2]\n",
    "\n",
    "df_y_train = list(df_y.iloc[np.arange(1,len(df_X),2)])\n",
    "df_X_train = df_X.iloc[np.arange(1,len(df_X),2)]\n"
   ]
  },
  {
   "cell_type": "code",
   "execution_count": 17,
   "metadata": {
    "scrolled": true
   },
   "outputs": [
    {
     "name": "stdout",
     "output_type": "stream",
     "text": [
      "Optimization terminated successfully.\n",
      "         Current function value: 0.030829\n",
      "         Iterations 12\n"
     ]
    }
   ],
   "source": [
    "log_reg_sm = sm.Logit(df_y, df_X).fit()"
   ]
  },
  {
   "cell_type": "code",
   "execution_count": 18,
   "metadata": {
    "scrolled": true
   },
   "outputs": [
    {
     "data": {
      "text/html": [
       "<table class=\"simpletable\">\n",
       "<caption>Logit Regression Results</caption>\n",
       "<tr>\n",
       "  <th>Dep. Variable:</th>      <td>Tumor type</td>    <th>  No. Observations:  </th>  <td>   843</td>  \n",
       "</tr>\n",
       "<tr>\n",
       "  <th>Model:</th>                 <td>Logit</td>      <th>  Df Residuals:      </th>  <td>   818</td>  \n",
       "</tr>\n",
       "<tr>\n",
       "  <th>Method:</th>                 <td>MLE</td>       <th>  Df Model:          </th>  <td>    24</td>  \n",
       "</tr>\n",
       "<tr>\n",
       "  <th>Date:</th>            <td>Mon, 26 Oct 2020</td> <th>  Pseudo R-squ.:     </th>  <td>0.8496</td>  \n",
       "</tr>\n",
       "<tr>\n",
       "  <th>Time:</th>                <td>20:22:47</td>     <th>  Log-Likelihood:    </th> <td> -25.989</td> \n",
       "</tr>\n",
       "<tr>\n",
       "  <th>converged:</th>             <td>True</td>       <th>  LL-Null:           </th> <td> -172.75</td> \n",
       "</tr>\n",
       "<tr>\n",
       "  <th>Covariance Type:</th>     <td>nonrobust</td>    <th>  LLR p-value:       </th> <td>3.359e-48</td>\n",
       "</tr>\n",
       "</table>\n",
       "<table class=\"simpletable\">\n",
       "<tr>\n",
       "             <td></td>                <th>coef</th>     <th>std err</th>      <th>z</th>      <th>P>|z|</th>  <th>[0.025</th>    <th>0.975]</th>  \n",
       "</tr>\n",
       "<tr>\n",
       "  <th>AFP (pg/ml)</th>             <td> 3.085e-05</td> <td> 1.12e-05</td> <td>    2.750</td> <td> 0.006</td> <td> 8.86e-06</td> <td> 5.28e-05</td>\n",
       "</tr>\n",
       "<tr>\n",
       "  <th>Angiopoietin-2 (pg/ml)</th>  <td>   -0.0003</td> <td>    0.000</td> <td>   -1.108</td> <td> 0.268</td> <td>   -0.001</td> <td>    0.000</td>\n",
       "</tr>\n",
       "<tr>\n",
       "  <th>AXL (pg/ml)</th>             <td>    0.0005</td> <td>    0.001</td> <td>    0.968</td> <td> 0.333</td> <td>   -0.001</td> <td>    0.002</td>\n",
       "</tr>\n",
       "<tr>\n",
       "  <th>CA-125 (U/ml)</th>           <td>    0.4014</td> <td>    0.177</td> <td>    2.266</td> <td> 0.023</td> <td>    0.054</td> <td>    0.749</td>\n",
       "</tr>\n",
       "<tr>\n",
       "  <th>CA 15-3 (U/ml)</th>          <td>    0.0593</td> <td>    0.036</td> <td>    1.631</td> <td> 0.103</td> <td>   -0.012</td> <td>    0.131</td>\n",
       "</tr>\n",
       "<tr>\n",
       "  <th>CA19-9 (U/ml)</th>           <td>    0.0014</td> <td>    0.006</td> <td>    0.234</td> <td> 0.815</td> <td>   -0.010</td> <td>    0.013</td>\n",
       "</tr>\n",
       "<tr>\n",
       "  <th>CD44 (ng/ml)</th>            <td>   -0.3546</td> <td>    0.135</td> <td>   -2.629</td> <td> 0.009</td> <td>   -0.619</td> <td>   -0.090</td>\n",
       "</tr>\n",
       "<tr>\n",
       "  <th>CEA (pg/ml)</th>             <td>   -0.0007</td> <td>    0.001</td> <td>   -1.132</td> <td> 0.258</td> <td>   -0.002</td> <td>    0.001</td>\n",
       "</tr>\n",
       "<tr>\n",
       "  <th>CYFRA 21-1 (pg/ml)</th>      <td>    0.0002</td> <td>    0.001</td> <td>    0.287</td> <td> 0.774</td> <td>   -0.001</td> <td>    0.002</td>\n",
       "</tr>\n",
       "<tr>\n",
       "  <th>DKK1 (ng/ml)</th>            <td>   -8.5272</td> <td>    2.608</td> <td>   -3.269</td> <td> 0.001</td> <td>  -13.639</td> <td>   -3.415</td>\n",
       "</tr>\n",
       "<tr>\n",
       "  <th>Endoglin (pg/ml)</th>        <td>    0.0002</td> <td>    0.000</td> <td>    0.595</td> <td> 0.552</td> <td>   -0.001</td> <td>    0.001</td>\n",
       "</tr>\n",
       "<tr>\n",
       "  <th>FGF2 (pg/ml)</th>            <td>    0.0065</td> <td>    0.011</td> <td>    0.612</td> <td> 0.540</td> <td>   -0.014</td> <td>    0.027</td>\n",
       "</tr>\n",
       "<tr>\n",
       "  <th>Follistatin (pg/ml)</th>     <td>    0.0012</td> <td>    0.001</td> <td>    1.240</td> <td> 0.215</td> <td>   -0.001</td> <td>    0.003</td>\n",
       "</tr>\n",
       "<tr>\n",
       "  <th>Galectin-3 (ng/ml)</th>      <td>   -0.0472</td> <td>    0.179</td> <td>   -0.263</td> <td> 0.792</td> <td>   -0.399</td> <td>    0.304</td>\n",
       "</tr>\n",
       "<tr>\n",
       "  <th>G-CSF (pg/ml)</th>           <td>   -0.0013</td> <td>    0.003</td> <td>   -0.388</td> <td> 0.698</td> <td>   -0.008</td> <td>    0.005</td>\n",
       "</tr>\n",
       "<tr>\n",
       "  <th>GDF15 (ng/ml)</th>           <td>    1.0730</td> <td>    0.684</td> <td>    1.569</td> <td> 0.117</td> <td>   -0.267</td> <td>    2.413</td>\n",
       "</tr>\n",
       "<tr>\n",
       "  <th>HE4 (pg/ml)</th>             <td>   -0.0014</td> <td>    0.000</td> <td>   -3.276</td> <td> 0.001</td> <td>   -0.002</td> <td>   -0.001</td>\n",
       "</tr>\n",
       "<tr>\n",
       "  <th>HGF (pg/ml)</th>             <td>    0.0265</td> <td>    0.007</td> <td>    3.594</td> <td> 0.000</td> <td>    0.012</td> <td>    0.041</td>\n",
       "</tr>\n",
       "<tr>\n",
       "  <th>IL-6 (pg/ml)</th>            <td>    0.0224</td> <td>    0.057</td> <td>    0.395</td> <td> 0.693</td> <td>   -0.089</td> <td>    0.133</td>\n",
       "</tr>\n",
       "<tr>\n",
       "  <th>IL-8 (pg/ml)</th>            <td>    0.0134</td> <td>    0.013</td> <td>    1.069</td> <td> 0.285</td> <td>   -0.011</td> <td>    0.038</td>\n",
       "</tr>\n",
       "<tr>\n",
       "  <th>Kallikrein-6 (pg/ml)</th>    <td> 4.944e-05</td> <td>    0.000</td> <td>    0.267</td> <td> 0.790</td> <td>   -0.000</td> <td>    0.000</td>\n",
       "</tr>\n",
       "<tr>\n",
       "  <th>Leptin (pg/ml)</th>          <td>-3.453e-05</td> <td> 2.32e-05</td> <td>   -1.491</td> <td> 0.136</td> <td>-7.99e-05</td> <td> 1.09e-05</td>\n",
       "</tr>\n",
       "<tr>\n",
       "  <th>Mesothelin (ng/ml)</th>      <td>    0.0772</td> <td>    0.052</td> <td>    1.486</td> <td> 0.137</td> <td>   -0.025</td> <td>    0.179</td>\n",
       "</tr>\n",
       "<tr>\n",
       "  <th>Midkine (pg/ml)</th>         <td>   -0.0014</td> <td>    0.001</td> <td>   -1.233</td> <td> 0.218</td> <td>   -0.004</td> <td>    0.001</td>\n",
       "</tr>\n",
       "<tr>\n",
       "  <th>Myeloperoxidase (ng/ml)</th> <td>    0.0309</td> <td>    0.014</td> <td>    2.143</td> <td> 0.032</td> <td>    0.003</td> <td>    0.059</td>\n",
       "</tr>\n",
       "</table><br/><br/>Possibly complete quasi-separation: A fraction 0.48 of observations can be<br/>perfectly predicted. This might indicate that there is complete<br/>quasi-separation. In this case some parameters will not be identified."
      ],
      "text/plain": [
       "<class 'statsmodels.iolib.summary.Summary'>\n",
       "\"\"\"\n",
       "                           Logit Regression Results                           \n",
       "==============================================================================\n",
       "Dep. Variable:             Tumor type   No. Observations:                  843\n",
       "Model:                          Logit   Df Residuals:                      818\n",
       "Method:                           MLE   Df Model:                           24\n",
       "Date:                Mon, 26 Oct 2020   Pseudo R-squ.:                  0.8496\n",
       "Time:                        20:22:47   Log-Likelihood:                -25.989\n",
       "converged:                       True   LL-Null:                       -172.75\n",
       "Covariance Type:            nonrobust   LLR p-value:                 3.359e-48\n",
       "===========================================================================================\n",
       "                              coef    std err          z      P>|z|      [0.025      0.975]\n",
       "-------------------------------------------------------------------------------------------\n",
       "AFP (pg/ml)              3.085e-05   1.12e-05      2.750      0.006    8.86e-06    5.28e-05\n",
       "Angiopoietin-2 (pg/ml)     -0.0003      0.000     -1.108      0.268      -0.001       0.000\n",
       "AXL (pg/ml)                 0.0005      0.001      0.968      0.333      -0.001       0.002\n",
       "CA-125 (U/ml)               0.4014      0.177      2.266      0.023       0.054       0.749\n",
       "CA 15-3 (U/ml)              0.0593      0.036      1.631      0.103      -0.012       0.131\n",
       "CA19-9 (U/ml)               0.0014      0.006      0.234      0.815      -0.010       0.013\n",
       "CD44 (ng/ml)               -0.3546      0.135     -2.629      0.009      -0.619      -0.090\n",
       "CEA (pg/ml)                -0.0007      0.001     -1.132      0.258      -0.002       0.001\n",
       "CYFRA 21-1 (pg/ml)          0.0002      0.001      0.287      0.774      -0.001       0.002\n",
       "DKK1 (ng/ml)               -8.5272      2.608     -3.269      0.001     -13.639      -3.415\n",
       "Endoglin (pg/ml)            0.0002      0.000      0.595      0.552      -0.001       0.001\n",
       "FGF2 (pg/ml)                0.0065      0.011      0.612      0.540      -0.014       0.027\n",
       "Follistatin (pg/ml)         0.0012      0.001      1.240      0.215      -0.001       0.003\n",
       "Galectin-3 (ng/ml)         -0.0472      0.179     -0.263      0.792      -0.399       0.304\n",
       "G-CSF (pg/ml)              -0.0013      0.003     -0.388      0.698      -0.008       0.005\n",
       "GDF15 (ng/ml)               1.0730      0.684      1.569      0.117      -0.267       2.413\n",
       "HE4 (pg/ml)                -0.0014      0.000     -3.276      0.001      -0.002      -0.001\n",
       "HGF (pg/ml)                 0.0265      0.007      3.594      0.000       0.012       0.041\n",
       "IL-6 (pg/ml)                0.0224      0.057      0.395      0.693      -0.089       0.133\n",
       "IL-8 (pg/ml)                0.0134      0.013      1.069      0.285      -0.011       0.038\n",
       "Kallikrein-6 (pg/ml)     4.944e-05      0.000      0.267      0.790      -0.000       0.000\n",
       "Leptin (pg/ml)          -3.453e-05   2.32e-05     -1.491      0.136   -7.99e-05    1.09e-05\n",
       "Mesothelin (ng/ml)          0.0772      0.052      1.486      0.137      -0.025       0.179\n",
       "Midkine (pg/ml)            -0.0014      0.001     -1.233      0.218      -0.004       0.001\n",
       "Myeloperoxidase (ng/ml)     0.0309      0.014      2.143      0.032       0.003       0.059\n",
       "===========================================================================================\n",
       "\n",
       "Possibly complete quasi-separation: A fraction 0.48 of observations can be\n",
       "perfectly predicted. This might indicate that there is complete\n",
       "quasi-separation. In this case some parameters will not be identified.\n",
       "\"\"\""
      ]
     },
     "execution_count": 18,
     "metadata": {},
     "output_type": "execute_result"
    }
   ],
   "source": [
    "log_reg_sm.summary()"
   ]
  },
  {
   "cell_type": "code",
   "execution_count": 19,
   "metadata": {},
   "outputs": [],
   "source": [
    "df_liver = pd.read_excel('Data/liver_features.xlsx')"
   ]
  },
  {
   "cell_type": "code",
   "execution_count": 20,
   "metadata": {},
   "outputs": [
    {
     "data": {
      "text/html": [
       "<div>\n",
       "<style scoped>\n",
       "    .dataframe tbody tr th:only-of-type {\n",
       "        vertical-align: middle;\n",
       "    }\n",
       "\n",
       "    .dataframe tbody tr th {\n",
       "        vertical-align: top;\n",
       "    }\n",
       "\n",
       "    .dataframe thead th {\n",
       "        text-align: right;\n",
       "    }\n",
       "</style>\n",
       "<table border=\"1\" class=\"dataframe\">\n",
       "  <thead>\n",
       "    <tr style=\"text-align: right;\">\n",
       "      <th></th>\n",
       "      <th>name</th>\n",
       "      <th>coef</th>\n",
       "      <th>std err</th>\n",
       "      <th>z</th>\n",
       "      <th>P&gt;|z|</th>\n",
       "      <th>[0.025</th>\n",
       "      <th>0.975]</th>\n",
       "    </tr>\n",
       "  </thead>\n",
       "  <tbody>\n",
       "    <tr>\n",
       "      <td>17</td>\n",
       "      <td>HGF (pg/ml)</td>\n",
       "      <td>0.026500</td>\n",
       "      <td>0.007000</td>\n",
       "      <td>3.594</td>\n",
       "      <td>0.000</td>\n",
       "      <td>0.012000</td>\n",
       "      <td>0.041000</td>\n",
       "    </tr>\n",
       "    <tr>\n",
       "      <td>16</td>\n",
       "      <td>HE4 (pg/ml)</td>\n",
       "      <td>-0.001400</td>\n",
       "      <td>0.000000</td>\n",
       "      <td>-3.276</td>\n",
       "      <td>0.001</td>\n",
       "      <td>-0.002000</td>\n",
       "      <td>-0.001000</td>\n",
       "    </tr>\n",
       "    <tr>\n",
       "      <td>9</td>\n",
       "      <td>DKK1 (ng/ml)</td>\n",
       "      <td>-8.527200</td>\n",
       "      <td>2.608000</td>\n",
       "      <td>-3.269</td>\n",
       "      <td>0.001</td>\n",
       "      <td>-13.639000</td>\n",
       "      <td>-3.415000</td>\n",
       "    </tr>\n",
       "    <tr>\n",
       "      <td>0</td>\n",
       "      <td>AFP (pg/ml)</td>\n",
       "      <td>0.000031</td>\n",
       "      <td>0.000011</td>\n",
       "      <td>2.750</td>\n",
       "      <td>0.006</td>\n",
       "      <td>0.000009</td>\n",
       "      <td>0.000053</td>\n",
       "    </tr>\n",
       "    <tr>\n",
       "      <td>6</td>\n",
       "      <td>CD44 (ng/ml)</td>\n",
       "      <td>-0.354600</td>\n",
       "      <td>0.135000</td>\n",
       "      <td>-2.629</td>\n",
       "      <td>0.009</td>\n",
       "      <td>-0.619000</td>\n",
       "      <td>-0.090000</td>\n",
       "    </tr>\n",
       "  </tbody>\n",
       "</table>\n",
       "</div>"
      ],
      "text/plain": [
       "            name      coef   std err      z  P>|z|     [0.025    0.975]\n",
       "17   HGF (pg/ml)  0.026500  0.007000  3.594  0.000   0.012000  0.041000\n",
       "16   HE4 (pg/ml) -0.001400  0.000000 -3.276  0.001  -0.002000 -0.001000\n",
       "9   DKK1 (ng/ml) -8.527200  2.608000 -3.269  0.001 -13.639000 -3.415000\n",
       "0    AFP (pg/ml)  0.000031  0.000011  2.750  0.006   0.000009  0.000053\n",
       "6   CD44 (ng/ml) -0.354600  0.135000 -2.629  0.009  -0.619000 -0.090000"
      ]
     },
     "execution_count": 20,
     "metadata": {},
     "output_type": "execute_result"
    }
   ],
   "source": [
    "df_liver.sort_values(by='P>|z|',ascending=True).head()"
   ]
  },
  {
   "cell_type": "markdown",
   "metadata": {},
   "source": [
    "#### 5. Multiclass classification\n",
    " - Again, using every second datapoint train a logistic regression (sklearn API) to predict the tumor type. It is a multiclass classification problem.\n",
    " - Generate prediction for the rest of the dataset and show the confusion matrix for the predictions!\n",
    " - Plot the ROC curves for the different cancer types on the same plot! \n",
    " - Intepret your results. Which cancer type can be predicted the most reliably?\n"
   ]
  },
  {
   "cell_type": "code",
   "execution_count": 21,
   "metadata": {},
   "outputs": [],
   "source": [
    "from sklearn.metrics import confusion_matrix, roc_auc_score, roc_curve"
   ]
  },
  {
   "cell_type": "code",
   "execution_count": 22,
   "metadata": {},
   "outputs": [],
   "source": [
    "df_data = pd.read_excel('Data/aar3247_Cohen_SM_Tables-S1-S11.xlsx',sheet_name='Table S6',skiprows=2,skipfooter=4)\n",
    "#noisy data:\n",
    "df_data = df_data.astype('str')\n",
    "for c in list(df_data.columns):\n",
    "    df_data[c] = df_data[c].str.replace('*','')\n",
    "\n",
    "df_data.pop('Patient ID #');\n",
    "df_data.pop('Sample ID #');\n",
    "df_data.pop('AJCC Stage');\n",
    "df_data.pop('CancerSEEK Test Result');\n",
    "df_data.pop('CancerSEEK Logistic Regression Score');\n",
    "\n",
    "for c in list(df_data.columns):\n",
    "    if c != 'Tumor type':\n",
    "        df_data[c] = df_data[c].astype('float')\n",
    "        \n",
    "df_data = df_data.dropna()\n",
    "df_data = df_data.reset_index(drop = True)\n",
    "\n",
    "\n",
    "\n",
    "# cancer_code = {'Normal': 0,\n",
    "#          'Stomach': 1,\n",
    "#          'Liver': 2,\n",
    "#          'Esophagus': 3,\n",
    "#          'Ovary': 4,\n",
    "#          'Pancreas': 5,\n",
    "#          'Breast': 6,\n",
    "#          'Lung': 7,\n",
    "#          'Colorectum': 8}\n",
    "\n",
    "# for c in cancer_code.keys():\n",
    "#     df_data['Tumor type'] = df_data['Tumor type'].str.replace(c,str(cancer_code[c]))\n",
    "\n",
    "\n",
    "df_y = df_data['Tumor type'].copy()\n",
    "# df_y = df_y.astype(int)\n",
    "df_X = df_data.copy()\n",
    "df_X.pop('Tumor type');\n",
    "\n",
    "\n",
    "df_y_test = list(df_y.iloc[::2])\n",
    "df_X_test = df_X.iloc[::2]\n",
    "\n",
    "df_y_train = list(df_y.iloc[1::2])\n",
    "df_X_train = df_X.iloc[1::2]\n"
   ]
  },
  {
   "cell_type": "code",
   "execution_count": 23,
   "metadata": {},
   "outputs": [],
   "source": [
    "classes = list(pd.unique(df_y))\n",
    "y_true_with_numbers = [classes.index(i) for i in df_y_train]\n",
    "y_true_with_numbers_test = [classes.index(i) for i in df_y_test]"
   ]
  },
  {
   "cell_type": "code",
   "execution_count": 24,
   "metadata": {
    "scrolled": false
   },
   "outputs": [
    {
     "name": "stderr",
     "output_type": "stream",
     "text": [
      "/home/nemethg/Programs/Anaconda/lib/python3.7/site-packages/sklearn/linear_model/logistic.py:432: FutureWarning: Default solver will be changed to 'lbfgs' in 0.22. Specify a solver to silence this warning.\n",
      "  FutureWarning)\n",
      "/home/nemethg/Programs/Anaconda/lib/python3.7/site-packages/sklearn/linear_model/logistic.py:469: FutureWarning: Default multi_class will be changed to 'auto' in 0.22. Specify the multi_class option to silence this warning.\n",
      "  \"this warning.\", FutureWarning)\n",
      "/home/nemethg/Programs/Anaconda/lib/python3.7/site-packages/sklearn/svm/base.py:929: ConvergenceWarning: Liblinear failed to converge, increase the number of iterations.\n",
      "  \"the number of iterations.\", ConvergenceWarning)\n"
     ]
    }
   ],
   "source": [
    "logreg2 = LogisticRegression(random_state=0).fit(df_X_train, y_true_with_numbers)\n",
    "pred_type_cancer = logreg2.predict(df_X_test)\n",
    "pred_type_cancer_prob = logreg2.predict_proba(df_X_test)"
   ]
  },
  {
   "cell_type": "code",
   "execution_count": 25,
   "metadata": {},
   "outputs": [
    {
     "data": {
      "text/plain": [
       "array([[118,   5,  12,   3,   0,   4,   1,   6,  42],\n",
       "       [ 19,  14,   5,   0,   0,   1,   2,   3,  11],\n",
       "       [ 14,  10,  24,   3,   1,   2,   2,   0,  50],\n",
       "       [  3,   3,   1,  28,   0,   0,   0,   1,   9],\n",
       "       [  8,   0,   1,   0,  16,   0,   1,   0,   0],\n",
       "       [ 10,   0,   1,   1,   0,   3,   3,   2,   6],\n",
       "       [  4,   0,   0,   1,   0,   1,  13,   0,   1],\n",
       "       [ 16,   0,   1,   1,   0,   1,   2,   6,   6],\n",
       "       [  8,   1,   8,   2,   1,   0,   0,   1, 379]])"
      ]
     },
     "execution_count": 25,
     "metadata": {},
     "output_type": "execute_result"
    }
   ],
   "source": [
    "confusion_matrix(y_true_with_numbers_test,pred_type_cancer)"
   ]
  },
  {
   "cell_type": "code",
   "execution_count": 26,
   "metadata": {},
   "outputs": [
    {
     "data": {
      "text/plain": [
       "<matplotlib.axes._subplots.AxesSubplot at 0x7f73bcaa3e10>"
      ]
     },
     "execution_count": 26,
     "metadata": {},
     "output_type": "execute_result"
    },
    {
     "data": {
      "image/png": "[encoded data removed]",
      "text/plain": [
       "<Figure size 432x288 with 2 Axes>"
      ]
     },
     "metadata": {
      "needs_background": "light"
     },
     "output_type": "display_data"
    }
   ],
   "source": [
    "c_matrix_2 = confusion_matrix(y_true_with_numbers_test,pred_type_cancer)\n",
    "seaborn.heatmap(c_matrix_2,fmt='iridis')"
   ]
  },
  {
   "cell_type": "code",
   "execution_count": 27,
   "metadata": {},
   "outputs": [
    {
     "data": {
      "text/plain": [
       "array([0, 1, 2, 3, 4, 5, 6, 7, 8])"
      ]
     },
     "execution_count": 27,
     "metadata": {},
     "output_type": "execute_result"
    }
   ],
   "source": [
    "logreg2.classes_"
   ]
  },
  {
   "cell_type": "code",
   "execution_count": 28,
   "metadata": {},
   "outputs": [
    {
     "name": "stdout",
     "output_type": "stream",
     "text": [
      "0 Colorectum\n",
      "1 Lung\n",
      "2 Breast\n",
      "3 Pancreas\n",
      "4 Ovary\n",
      "5 Esophagus\n",
      "6 Liver\n",
      "7 Stomach\n",
      "8 Normal\n"
     ]
    },
    {
     "data": {
      "image/png": "[encoded data removed]",
      "text/plain": [
       "<Figure size 432x288 with 1 Axes>"
      ]
     },
     "metadata": {
      "needs_background": "light"
     },
     "output_type": "display_data"
    }
   ],
   "source": [
    "\n",
    "for idx, c in enumerate(classes):\n",
    "    print(idx,c)\n",
    "    fpr, tpr, _ = roc_curve([int(t == idx) for t in y_true_with_numbers_test],pred_type_cancer_prob[:,idx])\n",
    "    plt.plot(fpr, tpr, label=c, lw=3)\n",
    "    \n",
    "plt.legend(fontsize=15)\n",
    "plt.xlim(-0.05, 1.05)\n",
    "plt.ylim(-0.05, 1.05)\n",
    "plt.xlabel('false positive rate', fontsize=15)\n",
    "plt.ylabel('true positive rate', fontsize=15)\n",
    "plt.plot([0, 1], [0, 1], color='navy', lw=2, linestyle='--')\n",
    "plt.show()\n",
    "\n",
    "\n",
    "    \n",
    "#     fpr, tpr, _ = roc_curve([int(t == idx) for t in y_multi[1::2]], multi_preds_probas[:,idx])"
   ]
  },
  {
   "cell_type": "code",
   "execution_count": 29,
   "metadata": {},
   "outputs": [
    {
     "data": {
      "image/png": "[encoded data removed]",
      "text/plain": [
       "<Figure size 720x720 with 1 Axes>"
      ]
     },
     "metadata": {
      "needs_background": "light"
     },
     "output_type": "display_data"
    }
   ],
   "source": [
    "\n",
    "\n",
    "plt.figure(figsize=(10, 10))\n",
    "conf = confusion_matrix(y_pred=y_true_with_numbers_test, y_true=pred_type_cancer)\n",
    "plt.matshow(conf, fignum=1)\n",
    "\n",
    "for i in range(len(classes)):\n",
    "    for j in range(len(classes)):\n",
    "        text = plt.text(j, i, conf[i, j],\n",
    "                       ha=\"center\", va=\"center\", color=\"w\", fontsize=15, fontweight='bold')\n",
    "plt.xticks(range(len(classes)), classes)\n",
    "plt.yticks(range(len(classes)), classes)\n",
    "plt.show()\n",
    "\n"
   ]
  },
  {
   "cell_type": "code",
   "execution_count": null,
   "metadata": {},
   "outputs": [],
   "source": []
  }
 ],
 "metadata": {
  "kernelspec": {
   "display_name": "Python 3",
   "language": "python",
   "name": "python3"
  },
  "language_info": {
   "codemirror_mode": {
    "name": "ipython",
    "version": 3
   },
   "file_extension": ".py",
   "mimetype": "text/x-python",
   "name": "python",
   "nbconvert_exporter": "python",
   "pygments_lexer": "ipython3",
   "version": "3.7.4"
  }
 },
 "nbformat": 4,
 "nbformat_minor": 4
}
